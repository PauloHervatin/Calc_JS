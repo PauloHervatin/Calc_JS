{
  "nbformat": 4,
  "nbformat_minor": 0,
  "metadata": {
    "colab": {
      "provenance": [],
      "authorship_tag": "ABX9TyMC52+MMczBeIXq/h78qonr",
      "include_colab_link": true
    },
    "kernelspec": {
      "name": "python3",
      "display_name": "Python 3"
    },
    "language_info": {
      "name": "python"
    }
  },
  "cells": [
    {
      "cell_type": "markdown",
      "metadata": {
        "id": "view-in-github",
        "colab_type": "text"
      },
      "source": [
        "<a href=\"https://colab.research.google.com/github/PauloHervatin/Calc_JS/blob/main/Pratique_EBAC.ipynb\" target=\"_parent\"><img src=\"https://colab.research.google.com/assets/colab-badge.svg\" alt=\"Open In Colab\"/></a>"
      ]
    },
    {
      "cell_type": "code",
      "execution_count": 19,
      "metadata": {
        "colab": {
          "base_uri": "https://localhost:8080/"
        },
        "id": "de6OZpf4aFCI",
        "outputId": "57800834-3d8e-4f8a-c22c-0c7a56e9a92b"
      },
      "outputs": [
        {
          "output_type": "stream",
          "name": "stdout",
          "text": [
            "Escreva um numero: 10\n",
            "Escreva outro numero: 10\n",
            "['+', '-', '*', '/']\n",
            "Escolha a operação: %\n",
            "Operação inexistente ou incorreta!\n"
          ]
        }
      ],
      "source": [
        "number1 = input('Escreva um numero: ')\n",
        "number2 = input('Escreva outro numero: ')\n",
        "\n",
        "lista_op = ['+','-','*','/' ]\n",
        "print(lista_op)\n",
        "\n",
        "operation = input('Escolha a operação: ')\n",
        "\n",
        "num1 = int(number1)\n",
        "num2 = int(number2)\n",
        "\n",
        "adição = num1 + num2\n",
        "subtração = num1 - num2\n",
        "multiplicação = num1 * num2\n",
        "divisão = float(num1 / num2)\n",
        "\n",
        "if operation == '+':\n",
        "  print(adição)\n",
        "elif operation == '-':\n",
        "  print(subtração)\n",
        "elif operation == '*':\n",
        "  print(multiplicação)\n",
        "elif operation == '/':\n",
        "  print(divisão)\n",
        "else:\n",
        "  print('Operação inexistente!')"
      ]
    }
  ]
}