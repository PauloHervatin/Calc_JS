{
  "nbformat": 4,
  "nbformat_minor": 0,
  "metadata": {
    "colab": {
      "provenance": [],
      "authorship_tag": "ABX9TyOBF7PXZV+LHA3wyxxLvKhX",
      "include_colab_link": true
    },
    "kernelspec": {
      "name": "python3",
      "display_name": "Python 3"
    },
    "language_info": {
      "name": "python"
    }
  },
  "cells": [
    {
      "cell_type": "markdown",
      "metadata": {
        "id": "view-in-github",
        "colab_type": "text"
      },
      "source": [
        "<a href=\"https://colab.research.google.com/github/PauloHervatin/Calc_JS/blob/main/Pratique_EBAC.ipynb\" target=\"_parent\"><img src=\"https://colab.research.google.com/assets/colab-badge.svg\" alt=\"Open In Colab\"/></a>"
      ]
    },
    {
      "cell_type": "code",
      "execution_count": null,
      "metadata": {
        "id": "de6OZpf4aFCI"
      },
      "outputs": [],
      "source": [
        "# Usuario escolherá dois numeros\n",
        "number1 = input('Escreva um numero: ')\n",
        "number2 = input('Escreva outro numero: ')\n",
        "\n",
        "# Lista para a visualização da operações disponiveis\n",
        "lista_op = ['+','-','*','/' ]\n",
        "print(lista_op)\n",
        "\n",
        "# O usuario escolhera uma operação\n",
        "operation = input('Escolha a operação: ')\n",
        "\n",
        "# Transformando a str em int\n",
        "num1 = int(number1)\n",
        "num2 = int(number2)\n",
        "\n",
        "# Operações\n",
        "adição = num1 + num2\n",
        "subtração = num1 - num2\n",
        "multiplicação = num1 * num2\n",
        "divisão = float(num1 / num2)\n",
        "\n",
        "# Condicional para a operação\n",
        "if operation == '+':\n",
        "  print(adição)\n",
        "elif operation == '-':\n",
        "  print(subtração)\n",
        "elif operation == '*':\n",
        "  print(multiplicação)\n",
        "elif operation == '/':\n",
        "  print(divisão)\n",
        "else:\n",
        "  print('Operação inexistente!') # <-- Caso a operação não  exista."
      ]
    },
    {
      "cell_type": "code",
      "source": [],
      "metadata": {
        "id": "LVvSH0dsnU-F"
      },
      "execution_count": null,
      "outputs": []
    }
  ]
}